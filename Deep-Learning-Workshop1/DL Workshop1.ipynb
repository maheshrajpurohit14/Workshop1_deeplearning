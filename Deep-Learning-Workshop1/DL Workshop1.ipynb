{
 "cells": [
  {
   "cell_type": "code",
   "execution_count": 3,
   "id": "e9d15c68-2f2d-49be-b211-603157c65fc2",
   "metadata": {},
   "outputs": [
    {
     "name": "stdout",
     "output_type": "stream",
     "text": [
      "Requirement already satisfied: pandas in c:\\users\\sec\\anaconda3\\envs\\rnn\\lib\\site-packages (2.3.3)\n",
      "Requirement already satisfied: numpy>=1.22.4 in c:\\users\\sec\\anaconda3\\envs\\rnn\\lib\\site-packages (from pandas) (1.26.4)\n",
      "Requirement already satisfied: python-dateutil>=2.8.2 in c:\\users\\sec\\anaconda3\\envs\\rnn\\lib\\site-packages (from pandas) (2.9.0.post0)\n",
      "Requirement already satisfied: pytz>=2020.1 in c:\\users\\sec\\anaconda3\\envs\\rnn\\lib\\site-packages (from pandas) (2025.2)\n",
      "Requirement already satisfied: tzdata>=2022.7 in c:\\users\\sec\\anaconda3\\envs\\rnn\\lib\\site-packages (from pandas) (2025.2)\n",
      "Requirement already satisfied: six>=1.5 in c:\\users\\sec\\anaconda3\\envs\\rnn\\lib\\site-packages (from python-dateutil>=2.8.2->pandas) (1.17.0)\n"
     ]
    }
   ],
   "source": [
    "!pip install pandas"
   ]
  },
  {
   "cell_type": "code",
   "execution_count": 4,
   "id": "36630f8b-e025-4a90-a862-86efc0722db8",
   "metadata": {},
   "outputs": [],
   "source": [
    "import pandas as pd\n",
    "import numpy as np\n",
    "import torch\n",
    "import torch.nn as nn"
   ]
  },
  {
   "cell_type": "code",
   "execution_count": 5,
   "id": "0c0df1e1-3ebc-40eb-9baa-c3554703f5dd",
   "metadata": {},
   "outputs": [],
   "source": [
    "data=pd.read_csv(\"income.csv\")"
   ]
  },
  {
   "cell_type": "code",
   "execution_count": 10,
   "id": "29f730b9-8e4e-4e3a-9f2b-2261451cf06b",
   "metadata": {},
   "outputs": [
    {
     "data": {
      "text/html": [
       "<div>\n",
       "<style scoped>\n",
       "    .dataframe tbody tr th:only-of-type {\n",
       "        vertical-align: middle;\n",
       "    }\n",
       "\n",
       "    .dataframe tbody tr th {\n",
       "        vertical-align: top;\n",
       "    }\n",
       "\n",
       "    .dataframe thead th {\n",
       "        text-align: right;\n",
       "    }\n",
       "</style>\n",
       "<table border=\"1\" class=\"dataframe\">\n",
       "  <thead>\n",
       "    <tr style=\"text-align: right;\">\n",
       "      <th></th>\n",
       "      <th>age</th>\n",
       "      <th>sex</th>\n",
       "      <th>education</th>\n",
       "      <th>education-num</th>\n",
       "      <th>marital-status</th>\n",
       "      <th>workclass</th>\n",
       "      <th>occupation</th>\n",
       "      <th>hours-per-week</th>\n",
       "      <th>income</th>\n",
       "      <th>label</th>\n",
       "    </tr>\n",
       "  </thead>\n",
       "  <tbody>\n",
       "    <tr>\n",
       "      <th>0</th>\n",
       "      <td>27</td>\n",
       "      <td>Male</td>\n",
       "      <td>HS-grad</td>\n",
       "      <td>9</td>\n",
       "      <td>Never-married</td>\n",
       "      <td>Private</td>\n",
       "      <td>Craft-repair</td>\n",
       "      <td>40</td>\n",
       "      <td>&lt;=50K</td>\n",
       "      <td>0</td>\n",
       "    </tr>\n",
       "    <tr>\n",
       "      <th>1</th>\n",
       "      <td>47</td>\n",
       "      <td>Male</td>\n",
       "      <td>Masters</td>\n",
       "      <td>14</td>\n",
       "      <td>Married</td>\n",
       "      <td>Local-gov</td>\n",
       "      <td>Exec-managerial</td>\n",
       "      <td>50</td>\n",
       "      <td>&gt;50K</td>\n",
       "      <td>1</td>\n",
       "    </tr>\n",
       "    <tr>\n",
       "      <th>2</th>\n",
       "      <td>59</td>\n",
       "      <td>Male</td>\n",
       "      <td>HS-grad</td>\n",
       "      <td>9</td>\n",
       "      <td>Divorced</td>\n",
       "      <td>Self-emp</td>\n",
       "      <td>Prof-specialty</td>\n",
       "      <td>20</td>\n",
       "      <td>&lt;=50K</td>\n",
       "      <td>0</td>\n",
       "    </tr>\n",
       "    <tr>\n",
       "      <th>3</th>\n",
       "      <td>38</td>\n",
       "      <td>Female</td>\n",
       "      <td>Prof-school</td>\n",
       "      <td>15</td>\n",
       "      <td>Never-married</td>\n",
       "      <td>Federal-gov</td>\n",
       "      <td>Prof-specialty</td>\n",
       "      <td>57</td>\n",
       "      <td>&gt;50K</td>\n",
       "      <td>1</td>\n",
       "    </tr>\n",
       "    <tr>\n",
       "      <th>4</th>\n",
       "      <td>64</td>\n",
       "      <td>Female</td>\n",
       "      <td>11th</td>\n",
       "      <td>7</td>\n",
       "      <td>Widowed</td>\n",
       "      <td>Private</td>\n",
       "      <td>Farming-fishing</td>\n",
       "      <td>40</td>\n",
       "      <td>&lt;=50K</td>\n",
       "      <td>0</td>\n",
       "    </tr>\n",
       "  </tbody>\n",
       "</table>\n",
       "</div>"
      ],
      "text/plain": [
       "   age     sex    education  education-num marital-status    workclass  \\\n",
       "0   27    Male      HS-grad              9  Never-married      Private   \n",
       "1   47    Male      Masters             14        Married    Local-gov   \n",
       "2   59    Male      HS-grad              9       Divorced     Self-emp   \n",
       "3   38  Female  Prof-school             15  Never-married  Federal-gov   \n",
       "4   64  Female         11th              7        Widowed      Private   \n",
       "\n",
       "        occupation  hours-per-week income  label  \n",
       "0     Craft-repair              40  <=50K      0  \n",
       "1  Exec-managerial              50   >50K      1  \n",
       "2   Prof-specialty              20  <=50K      0  \n",
       "3   Prof-specialty              57   >50K      1  \n",
       "4  Farming-fishing              40  <=50K      0  "
      ]
     },
     "execution_count": 10,
     "metadata": {},
     "output_type": "execute_result"
    }
   ],
   "source": [
    "data.head()"
   ]
  },
  {
   "cell_type": "code",
   "execution_count": 7,
   "id": "917ce947-924a-45d6-a492-3693649e7684",
   "metadata": {},
   "outputs": [
    {
     "data": {
      "text/plain": [
       "(30000, 10)"
      ]
     },
     "execution_count": 7,
     "metadata": {},
     "output_type": "execute_result"
    }
   ],
   "source": [
    "data.shape"
   ]
  },
  {
   "cell_type": "code",
   "execution_count": 8,
   "id": "f020505a-6ce7-4c61-b11a-a4ccfa1fafef",
   "metadata": {},
   "outputs": [
    {
     "data": {
      "text/plain": [
       "<bound method DataFrame.info of        age     sex     education  education-num marital-status    workclass  \\\n",
       "0       27    Male       HS-grad              9  Never-married      Private   \n",
       "1       47    Male       Masters             14        Married    Local-gov   \n",
       "2       59    Male       HS-grad              9       Divorced     Self-emp   \n",
       "3       38  Female   Prof-school             15  Never-married  Federal-gov   \n",
       "4       64  Female          11th              7        Widowed      Private   \n",
       "...    ...     ...           ...            ...            ...          ...   \n",
       "29995   45    Male       Masters             14        Married    State-gov   \n",
       "29996   33    Male       HS-grad              9        Married      Private   \n",
       "29997   47    Male   Prof-school             15        Married      Private   \n",
       "29998   32  Female  Some-college             10  Never-married      Private   \n",
       "29999   33    Male    Assoc-acdm             12        Married     Self-emp   \n",
       "\n",
       "              occupation  hours-per-week income  label  \n",
       "0           Craft-repair              40  <=50K      0  \n",
       "1        Exec-managerial              50   >50K      1  \n",
       "2         Prof-specialty              20  <=50K      0  \n",
       "3         Prof-specialty              57   >50K      1  \n",
       "4        Farming-fishing              40  <=50K      0  \n",
       "...                  ...             ...    ...    ...  \n",
       "29995     Prof-specialty              60   >50K      1  \n",
       "29996  Machine-op-inspct              40   >50K      1  \n",
       "29997     Prof-specialty              55   >50K      1  \n",
       "29998       Adm-clerical              40  <=50K      0  \n",
       "29999    Exec-managerial              60   >50K      1  \n",
       "\n",
       "[30000 rows x 10 columns]>"
      ]
     },
     "execution_count": 8,
     "metadata": {},
     "output_type": "execute_result"
    }
   ],
   "source": [
    "data.info"
   ]
  },
  {
   "cell_type": "code",
   "execution_count": 11,
   "id": "0b0118ad-d200-45e8-b57f-864b8a3703dd",
   "metadata": {},
   "outputs": [],
   "source": [
    "cat=['sex','education','marital-status','workclass','occupation']"
   ]
  },
  {
   "cell_type": "code",
   "execution_count": 12,
   "id": "551f8af3-e59f-4210-b180-52df21f33f58",
   "metadata": {},
   "outputs": [],
   "source": [
    "target = ['label']"
   ]
  },
  {
   "cell_type": "code",
   "execution_count": 13,
   "id": "89445c24-281c-4650-8870-280e007af94f",
   "metadata": {},
   "outputs": [],
   "source": [
    "con = ['age','hours-per-week']"
   ]
  },
  {
   "cell_type": "code",
   "execution_count": 14,
   "id": "0cf50522-a17a-432c-8d2e-88a3a3941a78",
   "metadata": {},
   "outputs": [
    {
     "name": "stdout",
     "output_type": "stream",
     "text": [
      "cat_cols  has 5 columns\n",
      "cont_cols has 2 columns\n",
      "y_col     has 1 column\n"
     ]
    }
   ],
   "source": [
    "print(f'cat_cols  has {len(cat)} columns')\n",
    "print(f'cont_cols has {len(con)} columns')\n",
    "print(f'y_col     has {len(target)} column')"
   ]
  },
  {
   "cell_type": "code",
   "execution_count": 15,
   "id": "6afab9d9-1f09-49db-95e7-d7068f3d2092",
   "metadata": {},
   "outputs": [
    {
     "name": "stdout",
     "output_type": "stream",
     "text": [
      "cat = ['sex', 'education', 'marital-status', 'workclass', 'occupation']\n",
      "data.columns = ['age', 'sex', 'education', 'education-num', 'marital-status', 'workclass', 'occupation', 'hours-per-week', 'income', 'label']\n"
     ]
    }
   ],
   "source": [
    "print(\"cat =\", cat)\n",
    "print(\"data.columns =\", list(data.columns))"
   ]
  },
  {
   "cell_type": "code",
   "execution_count": 16,
   "id": "92753dfb-27fd-4393-b557-9c67339c1f59",
   "metadata": {},
   "outputs": [],
   "source": [
    "cat = data.select_dtypes(include=['object', 'category']).columns\n",
    "\n",
    "for col in cat:\n",
    "    data[col] = data[col].astype('category')\n"
   ]
  },
  {
   "cell_type": "code",
   "execution_count": 17,
   "id": "4ae3dc17-66d7-417d-bdd0-732563dee7ee",
   "metadata": {},
   "outputs": [],
   "source": [
    "cat_szs = [len(data[col].cat.categories) for col in cat] \n",
    "emb_szs = [(size, min(50, (size+1)//2)) for size in cat_szs] "
   ]
  },
  {
   "cell_type": "code",
   "execution_count": 18,
   "id": "0eae72d4-68ea-4894-97ce-fef37c5c6b8c",
   "metadata": {},
   "outputs": [
    {
     "data": {
      "text/plain": [
       "[(2, 1), (14, 7), (6, 3), (5, 3), (12, 6), (2, 1)]"
      ]
     },
     "execution_count": 18,
     "metadata": {},
     "output_type": "execute_result"
    }
   ],
   "source": [
    "emb_szs"
   ]
  },
  {
   "cell_type": "code",
   "execution_count": 19,
   "id": "549ac028-f553-439f-8eeb-8f442e1d3a41",
   "metadata": {},
   "outputs": [
    {
     "data": {
      "text/plain": [
       "array([[ 1, 10,  3,  2,  1,  0],\n",
       "       [ 1, 11,  1,  1,  2,  1],\n",
       "       [ 1, 10,  0,  3,  7,  0],\n",
       "       [ 0, 12,  3,  0,  7,  1],\n",
       "       [ 0,  1,  5,  2,  3,  0]], dtype=int8)"
      ]
     },
     "execution_count": 19,
     "metadata": {},
     "output_type": "execute_result"
    }
   ],
   "source": [
    "cats = np.stack([data[col].cat.codes.values for col in cat], 1)\n",
    "cats[:5]"
   ]
  },
  {
   "cell_type": "code",
   "execution_count": 20,
   "id": "dd9c83b3-6b03-4845-a1b5-c32bd28c8033",
   "metadata": {},
   "outputs": [],
   "source": [
    "cats_tensor = torch.tensor(cats, dtype=torch.int64)"
   ]
  },
  {
   "cell_type": "code",
   "execution_count": 21,
   "id": "eefcc1bf-2cb7-4f0a-b7af-63cf882db605",
   "metadata": {},
   "outputs": [
    {
     "data": {
      "text/plain": [
       "array([[27, 40],\n",
       "       [47, 50],\n",
       "       [59, 20],\n",
       "       [38, 57],\n",
       "       [64, 40]], dtype=int64)"
      ]
     },
     "execution_count": 21,
     "metadata": {},
     "output_type": "execute_result"
    }
   ],
   "source": [
    "conts = np.stack([data[col].values for col in con], 1)\n",
    "conts[:5]"
   ]
  },
  {
   "cell_type": "code",
   "execution_count": 22,
   "id": "68925849-1251-4747-b26e-075126286be1",
   "metadata": {},
   "outputs": [],
   "source": [
    "conts_tensor = torch.tensor(conts, dtype=torch.float32)"
   ]
  },
  {
   "cell_type": "code",
   "execution_count": 23,
   "id": "2f81f948-2838-4562-a5a5-00f8fdb97b8f",
   "metadata": {},
   "outputs": [],
   "source": [
    "y = torch.tensor(data['label'].values, dtype=torch.long)"
   ]
  },
  {
   "cell_type": "code",
   "execution_count": 24,
   "id": "f2c19e9e-2d41-42af-9b52-d16cc33eabe5",
   "metadata": {},
   "outputs": [],
   "source": [
    "b = 30000 \n",
    "t = 5000   \n",
    "\n",
    "\n",
    "cats_train, cats_test = cats_tensor[:b], cats_tensor[b:]\n",
    "conts_train, conts_test = conts_tensor[:b], conts_tensor[b:]\n",
    "y_train, y_test = y[:b], y[b:]"
   ]
  },
  {
   "cell_type": "code",
   "execution_count": 25,
   "id": "5d28341b-bc7c-4201-bc57-e8d5e17e77ad",
   "metadata": {},
   "outputs": [],
   "source": [
    "class TabularModel(nn.Module):\n",
    "\n",
    "    def __init__(self, emb_szs, n_cont, out_sz, layers, p=0.5):\n",
    "        super().__init__()\n",
    "        \n",
    "        # Embedding layer for categorical data\n",
    "        self.embeds = nn.ModuleList([nn.Embedding(ni, nf) for ni, nf in emb_szs])\n",
    "        self.emb_drop = nn.Dropout(p)\n",
    "        self.bn_cont = nn.BatchNorm1d(n_cont)\n",
    "        \n",
    "        # Define the feedforward layers\n",
    "        layerlist = []\n",
    "        n_emb = sum((nf for ni, nf in emb_szs))\n",
    "        n_in = n_emb + n_cont\n",
    "        for i in layers:\n",
    "            layerlist.append(nn.Linear(n_in, i)) \n",
    "            layerlist.append(nn.ReLU(inplace=True))\n",
    "            layerlist.append(nn.BatchNorm1d(i))\n",
    "            layerlist.append(nn.Dropout(p))\n",
    "            n_in = i\n",
    "        layerlist.append(nn.Linear(layers[-1], out_sz))\n",
    "        self.layers = nn.Sequential(*layerlist)\n",
    "    \n",
    "    def forward(self, x_cat, x_cont):\n",
    "        embeddings = [e(x_cat[:, i]) for i, e in enumerate(self.embeds)]\n",
    "        x = torch.cat(embeddings, 1)\n",
    "        x = self.emb_drop(x)\n",
    "        \n",
    "        # Batch normalization for continuous variables\n",
    "        x_cont = self.bn_cont(x_cont)\n",
    "        x = torch.cat([x, x_cont], 1)\n",
    "        \n",
    "        # Pass through feedforward layers\n",
    "        x = self.layers(x)\n",
    "        return x\n"
   ]
  },
  {
   "cell_type": "code",
   "execution_count": 26,
   "id": "e468f4c2-83d2-448b-9617-c1df5da38f7b",
   "metadata": {},
   "outputs": [
    {
     "name": "stdout",
     "output_type": "stream",
     "text": [
      "TabularModel(\n",
      "  (embeds): ModuleList(\n",
      "    (0): Embedding(2, 1)\n",
      "    (1): Embedding(14, 7)\n",
      "    (2): Embedding(6, 3)\n",
      "    (3): Embedding(5, 3)\n",
      "    (4): Embedding(12, 6)\n",
      "    (5): Embedding(2, 1)\n",
      "  )\n",
      "  (emb_drop): Dropout(p=0.4, inplace=False)\n",
      "  (bn_cont): BatchNorm1d(2, eps=1e-05, momentum=0.1, affine=True, track_running_stats=True)\n",
      "  (layers): Sequential(\n",
      "    (0): Linear(in_features=23, out_features=50, bias=True)\n",
      "    (1): ReLU(inplace=True)\n",
      "    (2): BatchNorm1d(50, eps=1e-05, momentum=0.1, affine=True, track_running_stats=True)\n",
      "    (3): Dropout(p=0.4, inplace=False)\n",
      "    (4): Linear(in_features=50, out_features=2, bias=True)\n",
      "  )\n",
      ")\n"
     ]
    }
   ],
   "source": [
    "model = TabularModel(emb_szs, n_cont=2, out_sz=2, layers=[50], p=0.4)\n",
    "print(model)"
   ]
  },
  {
   "cell_type": "code",
   "execution_count": 27,
   "id": "293aa94a-ce33-41f3-bd1c-6f69dbebee5d",
   "metadata": {},
   "outputs": [],
   "source": [
    "criterion = nn.CrossEntropyLoss()\n",
    "optimizer = torch.optim.Adam(model.parameters(), lr=0.001)"
   ]
  },
  {
   "cell_type": "code",
   "execution_count": 28,
   "id": "37eff70d-fb19-40a3-a54e-e94201844597",
   "metadata": {},
   "outputs": [
    {
     "name": "stdout",
     "output_type": "stream",
     "text": [
      "epoch:   1  loss: 0.75925612\n",
      "epoch:  26  loss: 0.50444406\n",
      "epoch:  51  loss: 0.39717653\n",
      "epoch:  76  loss: 0.30130377\n",
      "epoch: 101  loss: 0.23462383\n",
      "epoch: 126  loss: 0.19738121\n",
      "epoch: 151  loss: 0.17446181\n",
      "epoch: 176  loss: 0.16366278\n",
      "epoch: 201  loss: 0.15667607\n",
      "epoch: 226  loss: 0.15025562\n",
      "epoch: 251  loss: 0.14509313\n",
      "epoch: 276  loss: 0.14425120\n",
      "epoch: 300  loss: 0.13837475\n",
      "\n",
      "Duration: 28 seconds\n"
     ]
    }
   ],
   "source": [
    "import time\n",
    "start_time = time.time()\n",
    "\n",
    "epochs = 300\n",
    "losses = []\n",
    "\n",
    "for i in range(epochs):\n",
    "    i+=1\n",
    "    y_pred = model(cats_train, conts_train)\n",
    "    loss = criterion(y_pred, y_train)\n",
    "    losses.append(loss)\n",
    "    \n",
    "    # a neat trick to save screen space:\n",
    "    if i%25 == 1:\n",
    "        print(f'epoch: {i:3}  loss: {loss.item():10.8f}')\n",
    "\n",
    "    optimizer.zero_grad()\n",
    "    loss.backward()\n",
    "    optimizer.step()\n",
    "\n",
    "print(f'epoch: {i:3}  loss: {loss.item():10.8f}') # print the last line\n",
    "print(f'\\nDuration: {time.time() - start_time:.0f} seconds')"
   ]
  },
  {
   "cell_type": "code",
   "execution_count": 29,
   "id": "a1f0b000-c2c3-4b85-bf82-ff87ad17d65d",
   "metadata": {},
   "outputs": [
    {
     "data": {
      "image/png": "[encoded data removed]",
      "text/plain": [
       "<Figure size 640x480 with 1 Axes>"
      ]
     },
     "metadata": {},
     "output_type": "display_data"
    }
   ],
   "source": [
    "import matplotlib.pyplot as plt\n",
    "\n",
    "# Convert the list of loss tensors to floats\n",
    "losses_np = [loss.detach().cpu().numpy() for loss in losses]\n",
    "\n",
    "plt.plot(losses_np)\n",
    "plt.xlabel('Epoch')\n",
    "plt.ylabel('Loss')\n",
    "plt.show()\n"
   ]
  },
  {
   "cell_type": "code",
   "execution_count": 30,
   "id": "27d1cef3-a7c2-4b9d-9872-bfaf3cb2c0d4",
   "metadata": {},
   "outputs": [],
   "source": [
    "cats_test = cats_tensor[25000:]\n",
    "conts_test = conts_tensor[25000:]\n",
    "y_test = y[25000:]"
   ]
  },
  {
   "cell_type": "code",
   "execution_count": 31,
   "id": "965a0cf5-b612-41bb-8805-c1ba8a769fd3",
   "metadata": {},
   "outputs": [
    {
     "name": "stdout",
     "output_type": "stream",
     "text": [
      "Test CE Loss: 0.01464687\n"
     ]
    }
   ],
   "source": [
    "model.eval()\n",
    "with torch.no_grad():\n",
    "    y_pred_test = model(cats_test, conts_test)\n",
    "    loss = criterion(y_pred_test, y_test)\n",
    "\n",
    "print(f'Test CE Loss: {loss.item():.8f}')\n"
   ]
  },
  {
   "cell_type": "code",
   "execution_count": 32,
   "id": "aa7304cc-6d6d-4fe5-a214-26ade1c7c100",
   "metadata": {},
   "outputs": [
    {
     "name": "stdout",
     "output_type": "stream",
     "text": [
      "Accuracy: 100.00%\n"
     ]
    }
   ],
   "source": [
    "y_pred_labels = torch.argmax(y_pred_test, dim=1)\n",
    "correct = (y_pred_labels == y_test).sum().item()\n",
    "accuracy = correct / y_test.size(0) * 100\n",
    "print(f'Accuracy: {accuracy:.2f}%')"
   ]
  },
  {
   "cell_type": "code",
   "execution_count": null,
   "id": "d4fbf622-b58b-4b22-a2bb-18bde372b138",
   "metadata": {},
   "outputs": [],
   "source": []
  }
 ],
 "metadata": {
  "kernelspec": {
   "display_name": "Python 3 (ipykernel)",
   "language": "python",
   "name": "python3"
  },
  "language_info": {
   "codemirror_mode": {
    "name": "ipython",
    "version": 3
   },
   "file_extension": ".py",
   "mimetype": "text/x-python",
   "name": "python",
   "nbconvert_exporter": "python",
   "pygments_lexer": "ipython3",
   "version": "3.10.18"
  }
 },
 "nbformat": 4,
 "nbformat_minor": 5
}
